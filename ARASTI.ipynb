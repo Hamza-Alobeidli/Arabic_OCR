{
 "cells": [
  {
   "cell_type": "code",
   "execution_count": 1,
   "id": "e221e51f",
   "metadata": {},
   "outputs": [],
   "source": [
    "import os \n",
    "import cv2\n",
    "import numpy as np\n",
    "from sklearn.preprocessing import LabelBinarizer\n",
    "from imutils import paths\n",
    "import matplotlib.pyplot as plt\n",
    "import pandas as pd\n",
    "\n",
    " \n"
   ]
  },
  {
   "cell_type": "code",
   "execution_count": 2,
   "id": "ae3cce75",
   "metadata": {},
   "outputs": [],
   "source": [
    "datapath = r'C:\\Users\\Asus\\OneDrive\\Desktop\\MBZUI\\Projects\\Arabic OCR\\ARASTI'\n",
    "output = r\"C:\\Users\\Asus\\OneDrive\\Desktop\\MBZUI\\Courses\\Spring 2023\\AI702\\Project\"\n",
    "labelizer = r\"C:\\Users\\Asus\\OneDrive\\Desktop\\MBZUI\\Courses\\Spring 2023\\AI702\\Project\\labelizer\"\n",
    "\n",
    "\n"
   ]
  },
  {
   "cell_type": "code",
   "execution_count": 3,
   "id": "a3987598",
   "metadata": {},
   "outputs": [
    {
     "name": "stdout",
     "output_type": "stream",
     "text": [
      "File Name: 7a isolated\n",
      "File Name: 7a start\n",
      "File Name: 9af isolated\n",
      "File Name: 9af start\n",
      "File Name: alif isolated\n",
      "File Name: alif start\n",
      "File Name: ayn end\n",
      "File Name: ayn isolated\n",
      "File Name: ayn middle\n",
      "File Name: ayn start\n",
      "File Name: ba isolated\n",
      "File Name: ba start\n",
      "File Name: chin isolated\n",
      "File Name: chin start\n",
      "File Name: dal isolated\n",
      "File Name: dhad isolated\n",
      "File Name: dhad start\n",
      "File Name: dhad_diacritiq\n",
      "File Name: fa isolated\n",
      "File Name: fa start\n",
      "File Name: ghayn isolated\n",
      "File Name: ghayn middle\n",
      "File Name: ghayn start\n",
      "File Name: haa end\n",
      "File Name: haa isolated\n",
      "File Name: haa start\n",
      "File Name: jim isolated\n",
      "File Name: jim start\n",
      "File Name: kef end\n",
      "File Name: kef start\n",
      "File Name: kha isolated\n",
      "File Name: kha start\n",
      "File Name: lem isolated\n",
      "File Name: lem start\n",
      "File Name: mim  isolated\n",
      "File Name: mim start\n",
      "File Name: noun isolated\n",
      "File Name: noun start\n",
      "File Name: raa isolated\n",
      "File Name: saad isolated\n",
      "File Name: saad start\n",
      "File Name: siin isolated\n",
      "File Name: siin start\n",
      "File Name: taa end\n",
      "File Name: taa start\n",
      "File Name: ta_closed_isolated\n",
      "File Name: ta_open_isolated\n",
      "File Name: tha isolated\n",
      "File Name: tha start\n",
      "File Name: thel\n",
      "File Name: ttaa\n",
      "File Name: waw\n",
      "File Name: yaa end\n",
      "File Name: yaa start\n",
      "File Name: zed\n"
     ]
    }
   ],
   "source": [
    "Labels=set()\n",
    "def listDir(dir):\n",
    "    fileNames = os.listdir(dir)\n",
    "    for fileName in fileNames:\n",
    "        print('File Name:',fileName)\n",
    "        Labels.add(fileName)\n",
    "listDir(r'C:\\Users\\Asus\\OneDrive\\Desktop\\MBZUI\\Projects\\Arabic OCR\\ARASTI')\n"
   ]
  },
  {
   "cell_type": "code",
   "execution_count": 4,
   "id": "c1d1ce37",
   "metadata": {
    "scrolled": true
   },
   "outputs": [],
   "source": [
    "# Labels = set(['7a isolated','7a start','9af isolated','9af start','alif isolated','alif start','ayn end','ayn isolated','ayn middle'])\n",
    "# Labels.type()\n",
    "Labels\n",
    "pathToImages = list(paths.list_images(r'C:\\Users\\Asus\\OneDrive\\Desktop\\MBZUI\\Projects\\Arabic OCR\\ARASTI'))\n",
    "data =[]\n",
    "labels=[]\n",
    "for images in pathToImages:\n",
    "    label = images.split(os.path.sep)[-2]\n",
    "    image = cv2.imread(images)\n",
    "    image = cv2.cvtColor(image,cv2.COLOR_RGB2BGR)\n",
    "    image = cv2.resize(image,(244,244))\n",
    "    data.append(image)\n",
    "    labels.append(label)\n",
    "    \n",
    "\n"
   ]
  },
  {
   "cell_type": "code",
   "execution_count": 5,
   "id": "8958d4d8",
   "metadata": {},
   "outputs": [],
   "source": [
    "# i =0\n",
    "# pathToImages = list(paths.list_images(r'C:\\Users\\Asus\\OneDrive\\Desktop\\MBZUI\\Projects\\Arabic OCR\\ARASTI'))\n",
    "# for images in pathToImages:\n",
    "#     i = i+1\n",
    "#     label = images.split(os.path.sep)[-2]\n",
    "#     image = cv2.imread(images)\n",
    "#     image = cv2.cvtColor(image,cv2.COLOR_RGB2BGR)\n",
    "#     print(i,images)\n",
    "\n",
    "\n",
    "\n",
    "\n"
   ]
  },
  {
   "cell_type": "code",
   "execution_count": 7,
   "id": "6b84075b",
   "metadata": {},
   "outputs": [
    {
     "data": {
      "text/plain": [
       "array([[1, 0, 0, ..., 0, 0, 0],\n",
       "       [1, 0, 0, ..., 0, 0, 0],\n",
       "       [1, 0, 0, ..., 0, 0, 0],\n",
       "       ...,\n",
       "       [0, 0, 0, ..., 0, 0, 1],\n",
       "       [0, 0, 0, ..., 0, 0, 1],\n",
       "       [0, 0, 0, ..., 0, 0, 1]])"
      ]
     },
     "execution_count": 7,
     "metadata": {},
     "output_type": "execute_result"
    }
   ],
   "source": [
    "\n",
    "lb = LabelBinarizer()\n",
    "data = np.array(data)\n",
    "labels = np.array(labels)\n",
    "labels = lb.fit_transform(labels)\n",
    "labels"
   ]
  },
  {
   "cell_type": "code",
   "execution_count": null,
   "id": "fa3b8ba5",
   "metadata": {},
   "outputs": [],
   "source": [
    "pd.DataFrame(labels)"
   ]
  },
  {
   "cell_type": "code",
   "execution_count": null,
   "id": "aa6ed4d7",
   "metadata": {},
   "outputs": [],
   "source": []
  }
 ],
 "metadata": {
  "kernelspec": {
   "display_name": "AI",
   "language": "python",
   "name": "ai"
  },
  "language_info": {
   "codemirror_mode": {
    "name": "ipython",
    "version": 3
   },
   "file_extension": ".py",
   "mimetype": "text/x-python",
   "name": "python",
   "nbconvert_exporter": "python",
   "pygments_lexer": "ipython3",
   "version": "3.9.16"
  }
 },
 "nbformat": 4,
 "nbformat_minor": 5
}
